{
 "cells": [
  {
   "cell_type": "markdown",
   "metadata": {},
   "source": [
    "<h1><center>Vector model</center></h1>\n",
    "\n",
    "- A word vector is a row of real valued numbers (as opposed to dummy numbers) where each point captures a dimension of the word’s meaning and where semantically similar words have similar vectors\n",
    "- Words engine and wheel should have same word vector compared to word car, whereas banana should be quite distant\n",
    "- We can perform vector operations such as king - man + woman = queen\n",
    "- Word vectors weight/lenght is drived by:\n",
    "    - counts of word/context of co-occurrences\n",
    "    - prediction of context given word(word2vec)"
   ]
  },
  {
   "cell_type": "code",
   "execution_count": 18,
   "metadata": {},
   "outputs": [],
   "source": [
    "import numpy as np\n",
    "import spacy\n",
    "from sklearn.decomposition import PCA\n",
    "import matplotlib.pyplot as plt\n",
    "import pandas as pd\n",
    "\n",
    "nlp = spacy.load(\"en\")"
   ]
  },
  {
   "cell_type": "code",
   "execution_count": 15,
   "metadata": {},
   "outputs": [],
   "source": [
    "animals = \"dog cat hamster lion tiger elephant cheetah monkey gorilla antelope rabbit mouse rat zoo home pet fluffy wild domesticated\"\n",
    "animal_tokens = nlp(animals)\n",
    "animal_vectors = np.vstack([word.vector for word in animal_tokens if word.has_vector])\n",
    "pca = PCA(n_components=2)\n",
    "animal_vecs_transformed = pca.fit_transform(animal_vectors)\n",
    "animal_vecs_transformed = np.c_[animals.split(), animal_vecs_transformed]"
   ]
  },
  {
   "cell_type": "code",
   "execution_count": 16,
   "metadata": {},
   "outputs": [
    {
     "data": {
      "text/plain": [
       "array([['dog', '1.6713198', '-7.5223207'],\n",
       "       ['cat', '-3.4378953', '-2.1145203'],\n",
       "       ['hamster', '-8.720775', '6.7066197'],\n",
       "       ['lion', '-6.7574773', '-1.9933424'],\n",
       "       ['tiger', '-8.901567', '6.3500624'],\n",
       "       ['elephant', '-2.6810102', '2.3221812'],\n",
       "       ['cheetah', '3.7949355', '1.8960114'],\n",
       "       ['monkey', '-0.15280278', '-3.6609845'],\n",
       "       ['gorilla', '0.19378486', '-7.5254846'],\n",
       "       ['antelope', '-3.092878', '-3.2923422'],\n",
       "       ['rabbit', '-3.9126422', '-0.9874084'],\n",
       "       ['mouse', '-5.168312', '0.4122193'],\n",
       "       ['rat', '0.39450818', '-3.944822'],\n",
       "       ['zoo', '5.0195956', '-1.6359981'],\n",
       "       ['home', '3.9749553', '-4.649193'],\n",
       "       ['pet', '4.1099157', '-2.2645707'],\n",
       "       ['fluffy', '1.1127928', '10.402581'],\n",
       "       ['wild', '8.436948', '7.3104315'],\n",
       "       ['domesticated', '14.116606', '4.190884']], dtype='<U32')"
      ]
     },
     "execution_count": 16,
     "metadata": {},
     "output_type": "execute_result"
    }
   ],
   "source": [
    "animal_vecs_transformed"
   ]
  },
  {
   "cell_type": "code",
   "execution_count": 42,
   "metadata": {},
   "outputs": [],
   "source": [
    "def myplot(score,coeff,labels=None):\n",
    "    xs = score[:,0]\n",
    "    ys = score[:,1]\n",
    "\n",
    "    n = coeff.shape[0]\n",
    "#     scalex = 1.0/(xs.max() - xs.min())\n",
    "#     scaley = 1.0/(ys.max() - ys.min())\n",
    "    plt.scatter(xs ,ys)\n",
    "    for i in range(n):\n",
    "        plt.arrow(0, 0, coeff[i,0], coeff[i,1],color = 'r',alpha = 0.5)\n",
    "        if labels is None:\n",
    "            plt.text(coeff[i,0]* 1.15, coeff[i,1] * 1.15, \"Var\"+str(i+1), color = 'g', ha = 'center', va = 'center')\n",
    "        else:\n",
    "            plt.text(coeff[i,0]* 1.15, coeff[i,1] * 1.15, labels[i], color = 'g', ha = 'center', va = 'center')\n",
    "    plt.xlim(-1,1)\n",
    "    plt.ylim(-1,1)\n",
    "    plt.xlabel(\"PC{}\".format(1))\n",
    "    plt.ylabel(\"PC{}\".format(2))\n",
    "    plt.grid()\n",
    "\n",
    "#Call the function. Use only the 2 PCs.\n",
    "# myplot(animal_vecs_transformed[:,1:3],np.transpose(pca.components_[0:2, :]))\n",
    "# plt.show()"
   ]
  },
  {
   "cell_type": "markdown",
   "metadata": {},
   "source": [
    "References: \n",
    "    1. https://medium.com/@jayeshbahire/introduction-to-word-vectors-ea1d4e4b84bf"
   ]
  }
 ],
 "metadata": {
  "kernelspec": {
   "display_name": "Python 3",
   "language": "python",
   "name": "python3"
  },
  "language_info": {
   "codemirror_mode": {
    "name": "ipython",
    "version": 3
   },
   "file_extension": ".py",
   "mimetype": "text/x-python",
   "name": "python",
   "nbconvert_exporter": "python",
   "pygments_lexer": "ipython3",
   "version": "3.7.4"
  }
 },
 "nbformat": 4,
 "nbformat_minor": 2
}
